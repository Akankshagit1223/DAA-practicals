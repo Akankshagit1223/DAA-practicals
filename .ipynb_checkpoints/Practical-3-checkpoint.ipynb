{
 "cells": [
  {
   "cell_type": "markdown",
   "id": "06e1150f",
   "metadata": {},
   "source": [
    "# Write a program to solve a fractional Knapsack problem using a greedy method. "
   ]
  },
  {
   "cell_type": "code",
   "execution_count": 1,
   "id": "323363c3",
   "metadata": {},
   "outputs": [
    {
     "ename": "SyntaxError",
     "evalue": "invalid syntax (3277046923.py, line 1)",
     "output_type": "error",
     "traceback": [
      "\u001b[1;36m  Cell \u001b[1;32mIn[1], line 1\u001b[1;36m\u001b[0m\n\u001b[1;33m    classItem:\u001b[0m\n\u001b[1;37m               ^\u001b[0m\n\u001b[1;31mSyntaxError\u001b[0m\u001b[1;31m:\u001b[0m invalid syntax\n"
     ]
    }
   ],
   "source": [
    "classItem: \n",
    "def init(self, profit, weight): self.profit \n",
    "= profit \n",
    "self.weight=weight \n",
    " \n",
    "deffractionalKnapsack(w,arr): \n",
    "arr.sort(key=lambda x: x.profit/x.weight, reverse=True) \n",
    "finalValue = 0.0 \n",
    "foriteminarr: \n",
    "ifw>=item.weight: \n",
    "finalValue += item.profit \n",
    "w -= item.weight \n",
    "else: \n",
    "finalValue+=item.profit*(w/item.weight) \n",
    "break \n",
    "returnfinalValue \n",
    " \n",
    "ifname==\"main\": \n",
    "n = int(input(\"Enter number of items-\\n\")) \n",
    "arr = [] \n",
    "foriinrange(n): \n",
    "profit = int(input(\"Enter profit of item \" + str(i + 1) + \"-\\n\")) \n",
    "weight = int(input(\"Enter weight of item \" + str(i + 1) + \"-\\n\")) \n",
    "arr.append(Item(profit, weight)) \n",
    "w=int(input(\"Entercapacityofknapsack-\\n\")) \n",
    "print(\"Maximumvalueinknapsack:\",fractionalKnapsack(w,arr))"
   ]
  },
  {
   "cell_type": "code",
   "execution_count": 2,
   "id": "a17e2a19",
   "metadata": {},
   "outputs": [
    {
     "name": "stdout",
     "output_type": "stream",
     "text": [
      "Enter number of items-\n",
      "5\n",
      "Enter profit of item 1-\n",
      "500\n",
      "Enter weight of item 1-\n",
      "230\n",
      "Enter profit of item 2-\n",
      "300\n",
      "Enter weight of item 2-\n",
      "87\n",
      "Enter profit of item 3-\n",
      "25\n",
      "Enter weight of item 3-\n",
      "300\n",
      "Enter profit of item 4-\n",
      "25\n",
      "Enter weight of item 4-\n",
      "15\n",
      "Enter profit of item 5-\n",
      "45\n",
      "Enter weight of item 5-\n",
      "34\n",
      "Enter capacity of knapsack-\n",
      "55\n",
      "Maximum value in knapsack: 189.6551724137931\n"
     ]
    }
   ],
   "source": [
    "class Item: \n",
    "    def __init__(self, profit, weight): \n",
    "        self.profit = profit \n",
    "        self.weight = weight \n",
    "\n",
    "def fractionalKnapsack(w, arr): \n",
    "    arr.sort(key=lambda x: x.profit / x.weight, reverse=True) \n",
    "    finalValue = 0.0 \n",
    "\n",
    "    for item in arr: \n",
    "        if w >= item.weight: \n",
    "            finalValue += item.profit \n",
    "            w -= item.weight \n",
    "        else: \n",
    "            finalValue += item.profit * (w / item.weight) \n",
    "            break \n",
    "\n",
    "    return finalValue \n",
    "\n",
    "if __name__ == \"__main__\": \n",
    "    n = int(input(\"Enter number of items-\\n\")) \n",
    "    arr = [] \n",
    "\n",
    "    for i in range(n): \n",
    "        profit = int(input(\"Enter profit of item \" + str(i + 1) + \"-\\n\")) \n",
    "        weight = int(input(\"Enter weight of item \" + str(i + 1) + \"-\\n\")) \n",
    "        arr.append(Item(profit, weight)) \n",
    "\n",
    "    w = int(input(\"Enter capacity of knapsack-\\n\")) \n",
    "    print(\"Maximum value in knapsack:\", fractionalKnapsack(w, arr))\n"
   ]
  },
  {
   "cell_type": "code",
   "execution_count": null,
   "id": "ef17cd4b",
   "metadata": {},
   "outputs": [],
   "source": []
  }
 ],
 "metadata": {
  "kernelspec": {
   "display_name": "Python 3 (ipykernel)",
   "language": "python",
   "name": "python3"
  },
  "language_info": {
   "codemirror_mode": {
    "name": "ipython",
    "version": 3
   },
   "file_extension": ".py",
   "mimetype": "text/x-python",
   "name": "python",
   "nbconvert_exporter": "python",
   "pygments_lexer": "ipython3",
   "version": "3.11.5"
  }
 },
 "nbformat": 4,
 "nbformat_minor": 5
}
