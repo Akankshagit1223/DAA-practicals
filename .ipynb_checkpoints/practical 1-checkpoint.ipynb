{
 "cells": [
  {
   "cell_type": "code",
   "execution_count": 1,
   "id": "85c89f4a",
   "metadata": {},
   "outputs": [],
   "source": [
    "#Write a program to solve a 0-1 Knapsack problem using dynamic programming or branch and bound strategy."
   ]
  },
  {
   "cell_type": "code",
   "execution_count": 7,
   "id": "c165af03",
   "metadata": {},
   "outputs": [
    {
     "name": "stdout",
     "output_type": "stream",
     "text": [
      "220\n"
     ]
    }
   ],
   "source": [
    "def knapSack(W, wt, val, n): \n",
    "    dp = [0 for i in range(W+1)]  # Making the dp array \n",
    "\n",
    "    # Iterate over the first i elements\n",
    "    for i in range(1, n+1): \n",
    "        # Starting from the back, so that we also have data of the previous computation\n",
    "        for w in range(W, 0, -1): \n",
    "            # If the current weight is less than or equal to the current capacity\n",
    "            if wt[i-1] <= w: \n",
    "                # Finding the maximum value\n",
    "                dp[w] = max(dp[w], dp[w-wt[i-1]] + val[i-1]) \n",
    "\n",
    "    return dp[W]  # Returning the maximum value of the knapsack\n",
    "\n",
    "# Driver code\n",
    "val = [60, 100, 120]  # Values of the items\n",
    "wt = [10, 20, 30]     # Weights of the items\n",
    "W = 50                # Capacity of the knapsack\n",
    "n = len(val)          # Number of items\n",
    "\n",
    "print(knapSack(W, wt, val, n))  \n"
   ]
  },
  {
   "cell_type": "code",
   "execution_count": null,
   "id": "fd0f4c05",
   "metadata": {},
   "outputs": [],
   "source": []
  }
 ],
 "metadata": {
  "kernelspec": {
   "display_name": "Python 3 (ipykernel)",
   "language": "python",
   "name": "python3"
  },
  "language_info": {
   "codemirror_mode": {
    "name": "ipython",
    "version": 3
   },
   "file_extension": ".py",
   "mimetype": "text/x-python",
   "name": "python",
   "nbconvert_exporter": "python",
   "pygments_lexer": "ipython3",
   "version": "3.11.5"
  }
 },
 "nbformat": 4,
 "nbformat_minor": 5
}
