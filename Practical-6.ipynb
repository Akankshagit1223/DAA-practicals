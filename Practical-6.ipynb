{
 "cells": [
  {
   "cell_type": "code",
   "execution_count": 1,
   "id": "67f173dc",
   "metadata": {},
   "outputs": [
    {
     "ename": "IndentationError",
     "evalue": "expected an indented block after function definition on line 3 (405918836.py, line 4)",
     "output_type": "error",
     "traceback": [
      "\u001b[1;36m  Cell \u001b[1;32mIn[1], line 4\u001b[1;36m\u001b[0m\n\u001b[1;33m    if len(arr) <= 1:\u001b[0m\n\u001b[1;37m    ^\u001b[0m\n\u001b[1;31mIndentationError\u001b[0m\u001b[1;31m:\u001b[0m expected an indented block after function definition on line 3\n"
     ]
    }
   ],
   "source": [
    "import random \n",
    "import time \n",
    "def quick_sort_deterministic(arr): \n",
    "if len(arr) <= 1: \n",
    "return arr \n",
    "pivot = arr[len(arr) // 2] \n",
    "left = [x for x in arr if x < pivot] \n",
    "middle = [x for x in arr if x == pivot] \n",
    "right = [x for x in arr if x > pivot] \n",
    "return quick_sort_deterministic(left) + middle + quick_sort_deterministic(right) \n",
    "def quick_sort_randomized(arr): \n",
    "if len(arr) <= 1: \n",
    "return arr \n",
    "pivot_index = random.randint(0, len(arr) - 1) \n",
    "pivot = arr[pivot_index] \n",
    "left = [x for x in arr if x < pivot] \n",
    "middle = [x for x in arr if x == pivot] \n",
    "right = [x for x in arr if x > pivot] \n",
    "return quick_sort_randomized(left) + middle + quick_sort_randomized(right) \n",
    "def measure_time(sort_function, arr): \n",
    "start_time = time.time() \n",
    "sorted_arr = sort_function(arr) \n",
    "end_time = time.time() \n",
    "return sorted_arr, end_time - start_time \n",
    "def print_output(sort_type, sorted_arr, elapsed_time): \n",
    "print(f\"===== {sort_type} Quick Sort =====\") \n",
    "print(f\"Sorted Array: {sorted_arr[:20]}...\")  # Print the first 20 elements for brevity \n",
    "print(f\"Time Taken: {elapsed_time:.6f} seconds\") \n",
    "print(\"========================================\\n\") \n",
    "def main(): \n",
    "# Generate a random list of numbers \n",
    "size = 1000  # You can change the size for more testing \n",
    "random_list = [random.randint(0, 10000) for _ in range(size)] \n",
    "# Copy the list for each sort method to ensure they are sorting the same data \n",
    "list_for_deterministic = random_list.copy() \n",
    "list_for_randomized = random_list.copy() \n",
    "# Measure time for deterministic quick sort \n",
    "sorted_deterministic, time_deterministic = measure_time(quick_sort_deterministic, \n",
    "list_for_deterministic) \n",
    "print_output(\"Deterministic\", sorted_deterministic, time_deterministic) \n",
    "# Measure time for randomized quick sort \n",
    "sorted_randomized, time_randomized = measure_time(quick_sort_randomized, \n",
    "list_for_randomized) \n",
    "print_output(\"Randomized\", sorted_randomized, time_randomized) \n",
    "if __name__ == \"__main__\": \n",
    "main()"
   ]
  },
  {
   "cell_type": "code",
   "execution_count": 2,
   "id": "71245871",
   "metadata": {},
   "outputs": [
    {
     "name": "stdout",
     "output_type": "stream",
     "text": [
      "===== Deterministic Quick Sort =====\n",
      "Sorted Array: [14, 15, 17, 32, 40, 50, 51, 65, 71, 78, 79, 85, 88, 106, 108, 125, 125, 127, 144, 161]...\n",
      "Time Taken: 0.005029 seconds\n",
      "========================================\n",
      "\n",
      "===== Randomized Quick Sort =====\n",
      "Sorted Array: [14, 15, 17, 32, 40, 50, 51, 65, 71, 78, 79, 85, 88, 106, 108, 125, 125, 127, 144, 161]...\n",
      "Time Taken: 0.010041 seconds\n",
      "========================================\n",
      "\n"
     ]
    }
   ],
   "source": [
    "import random\n",
    "import time\n",
    "\n",
    "def quick_sort_deterministic(arr):\n",
    "    if len(arr) <= 1:\n",
    "        return arr\n",
    "    pivot = arr[len(arr) // 2]\n",
    "    left = [x for x in arr if x < pivot]\n",
    "    middle = [x for x in arr if x == pivot]\n",
    "    right = [x for x in arr if x > pivot]\n",
    "    return quick_sort_deterministic(left) + middle + quick_sort_deterministic(right)\n",
    "\n",
    "def quick_sort_randomized(arr):\n",
    "    if len(arr) <= 1:\n",
    "        return arr\n",
    "    pivot_index = random.randint(0, len(arr) - 1)\n",
    "    pivot = arr[pivot_index]\n",
    "    left = [x for x in arr if x < pivot]\n",
    "    middle = [x for x in arr if x == pivot]\n",
    "    right = [x for x in arr if x > pivot]\n",
    "    return quick_sort_randomized(left) + middle + quick_sort_randomized(right)\n",
    "\n",
    "def measure_time(sort_function, arr):\n",
    "    start_time = time.time()\n",
    "    sorted_arr = sort_function(arr)\n",
    "    end_time = time.time()\n",
    "    return sorted_arr, end_time - start_time\n",
    "\n",
    "def print_output(sort_type, sorted_arr, elapsed_time):\n",
    "    print(f\"===== {sort_type} Quick Sort =====\")\n",
    "    print(f\"Sorted Array: {sorted_arr[:20]}...\")  # Print the first 20 elements for brevity\n",
    "    print(f\"Time Taken: {elapsed_time:.6f} seconds\")\n",
    "    print(\"========================================\\n\")\n",
    "\n",
    "def main():\n",
    "    # Generate a random list of numbers\n",
    "    size = 1000  # You can change the size for more testing\n",
    "    random_list = [random.randint(0, 10000) for _ in range(size)]\n",
    "    \n",
    "    # Copy the list for each sort method to ensure they are sorting the same data\n",
    "    list_for_deterministic = random_list.copy()\n",
    "    list_for_randomized = random_list.copy()\n",
    "    \n",
    "    # Measure time for deterministic quick sort\n",
    "    sorted_deterministic, time_deterministic = measure_time(quick_sort_deterministic, list_for_deterministic)\n",
    "    print_output(\"Deterministic\", sorted_deterministic, time_deterministic)\n",
    "    \n",
    "    # Measure time for randomized quick sort\n",
    "    sorted_randomized, time_randomized = measure_time(quick_sort_randomized, list_for_randomized)\n",
    "    print_output(\"Randomized\", sorted_randomized, time_randomized)\n",
    "\n",
    "if __name__ == \"__main__\":\n",
    "    main()\n"
   ]
  }
 ],
 "metadata": {
  "kernelspec": {
   "display_name": "Python 3 (ipykernel)",
   "language": "python",
   "name": "python3"
  },
  "language_info": {
   "codemirror_mode": {
    "name": "ipython",
    "version": 3
   },
   "file_extension": ".py",
   "mimetype": "text/x-python",
   "name": "python",
   "nbconvert_exporter": "python",
   "pygments_lexer": "ipython3",
   "version": "3.11.5"
  }
 },
 "nbformat": 4,
 "nbformat_minor": 5
}
