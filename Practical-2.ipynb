{
 "cells": [
  {
   "cell_type": "markdown",
   "id": "0b5d6f42",
   "metadata": {},
   "source": [
    "# Write a program to implement Huffman Encoding using a greedy strategy."
   ]
  },
  {
   "cell_type": "code",
   "execution_count": 3,
   "id": "ed726358",
   "metadata": {},
   "outputs": [
    {
     "name": "stdout",
     "output_type": "stream",
     "text": [
      "Enter number of characters: 4\n",
      "Enter character 1: a\n",
      "Enter frequency of character a: 5\n",
      "Enter character 2: g\n",
      "Enter frequency of character g: 8\n",
      "Enter character 3: t\n",
      "Enter frequency of character t: 3\n",
      "Enter character 4: q\n",
      "Enter frequency of character q: 1\n",
      "g -> 0\n",
      "q -> 100\n",
      "t -> 101\n",
      "a -> 11\n",
      "\n",
      "Total size before encoding: 136 bits\n",
      "Total size after encoding: 30 bits\n",
      "Encoded Data Representation: 79 bits\n"
     ]
    }
   ],
   "source": [
    "import heapq \n",
    "\n",
    "class Node: \n",
    "    def __init__(self, freq, symbol, left=None, right=None): \n",
    "        self.freq = freq \n",
    "        self.symbol = symbol \n",
    "        self.left = left \n",
    "        self.right = right \n",
    "        self.huff = \"\" \n",
    "\n",
    "    def __lt__(self, other): \n",
    "        return self.freq < other.freq \n",
    "\n",
    "def printNodes(node, val=\"\"): \n",
    "    newval = val + node.huff \n",
    "    if node.left or node.right: \n",
    "        if node.left: \n",
    "            printNodes(node.left, newval) \n",
    "        if node.right: \n",
    "            printNodes(node.right, newval) \n",
    "    else: \n",
    "        print(f\"{node.symbol} -> {newval}\") \n",
    "        encoded_lengths[node.symbol] = len(newval) \n",
    "\n",
    "# Getting user input for characters and their frequencies \n",
    "num_chars = int(input(\"Enter number of characters: \")) \n",
    "chars = [] \n",
    "freqs = [] \n",
    "\n",
    "for i in range(num_chars): \n",
    "    char = input(f\"Enter character {i + 1}: \") \n",
    "    freq = int(input(f\"Enter frequency of character {char}: \")) \n",
    "    chars.append(char) \n",
    "    freqs.append(freq) \n",
    "\n",
    "nodes = [] \n",
    "for i in range(len(chars)): \n",
    "    heapq.heappush(nodes, Node(freqs[i], chars[i])) \n",
    "\n",
    "while len(nodes) > 1: \n",
    "    left = heapq.heappop(nodes) \n",
    "    right = heapq.heappop(nodes) \n",
    "    left.huff = \"0\" \n",
    "    right.huff = \"1\" \n",
    "    newnode = Node(left.freq + right.freq, left.symbol + right.symbol, left, right) \n",
    "    heapq.heappush(nodes, newnode) \n",
    "\n",
    "# Calculating total size before encoding \n",
    "total_size_before = sum(freqs) * 8 \n",
    "\n",
    "# Printing the nodes and calculating encoded lengths \n",
    "encoded_lengths = {} \n",
    "printNodes(nodes[0]) \n",
    "\n",
    "# Calculating total size after encoding \n",
    "total_size_after = sum(freqs[i] * encoded_lengths[chars[i]] for i in range(num_chars)) \n",
    "\n",
    "# Calculating Encoded Data Representation \n",
    "characters = num_chars * 8 \n",
    "frequency = sum(freqs) \n",
    "encoded_data_representation = characters + frequency + total_size_after \n",
    "\n",
    "print(\"\\nTotal size before encoding:\", total_size_before, \"bits\") \n",
    "print(\"Total size after encoding:\", total_size_after, \"bits\") \n",
    "print(\"Encoded Data Representation:\", encoded_data_representation, \"bits\") \n"
   ]
  },
  {
   "cell_type": "code",
   "execution_count": null,
   "id": "2904f7f3",
   "metadata": {},
   "outputs": [],
   "source": []
  }
 ],
 "metadata": {
  "kernelspec": {
   "display_name": "Python 3 (ipykernel)",
   "language": "python",
   "name": "python3"
  },
  "language_info": {
   "codemirror_mode": {
    "name": "ipython",
    "version": 3
   },
   "file_extension": ".py",
   "mimetype": "text/x-python",
   "name": "python",
   "nbconvert_exporter": "python",
   "pygments_lexer": "ipython3",
   "version": "3.11.5"
  }
 },
 "nbformat": 4,
 "nbformat_minor": 5
}
